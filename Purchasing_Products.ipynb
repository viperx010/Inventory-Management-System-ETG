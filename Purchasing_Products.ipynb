{
  "nbformat": 4,
  "nbformat_minor": 0,
  "metadata": {
    "colab": {
      "name": "Purchasing Products.ipynb",
      "provenance": [],
      "collapsed_sections": []
    },
    "kernelspec": {
      "name": "python3",
      "display_name": "Python 3"
    },
    "language_info": {
      "name": "python"
    }
  },
  "cells": [
    {
      "cell_type": "code",
      "metadata": {
        "id": "KHiX55lCByi0"
      },
      "source": [
        "import json\n",
        "products= {1001: {\"name\": \"Chips\", \"price\": 30, \"quantity\": 500},\n",
        "           1002: {\"name\": \"Chocolate\", \"price\": 80, \"quantity\": 310},\n",
        "           1003: {\"name\": \"Cake\", \"price\": 400, \"quantity\": 100},\n",
        "           1004: {\"name\": \"Soap\", \"price\": 50, \"quantity\": 920},\n",
        "           1005: {\"name\": \"Hair Oil\", \"price\": 120, \"quantity\": 125},\n",
        "           1006: {\"name\": \"Candy\", \"price\": 20, \"quantity\": 1020},\n",
        "           1007: {\"name\": \"Drink\", \"price\": 65, \"quantity\": 885},\n",
        "           1008: {\"name\": \"Pen\", \"price\": 10, \"quantity\": 1900},\n",
        "           1009: {\"name\": \"Monitor\", \"price\": 4500, \"quantity\": 150},\n",
        "           1010: {\"name\": \"Phone\", \"price\": 35000, \"quantity\": 60},\n",
        "           1011: {\"name\": \"Airpods\", \"price\": 12399, \"quantity\": 98},\n",
        "           1012: {\"name\": \"Keyboard\", \"price\": 699, \"quantity\": 20},\n",
        "           1013: {\"name\": \"Bag\", \"price\": 420, \"quantity\": 710},\n",
        "           1014: {\"name\": \"Bottle\", \"price\": 105, \"quantity\": 965},\n",
        "           1015: {\"name\": \"Charger\", \"price\": 95, \"quantity\": 230},\n",
        "           1016: {\"name\": \"Table Calendar\", \"price\": 49, \"quantity\": 545},\n",
        "           1017: {\"name\": \"Smart Watch\", \"price\": 3780, \"quantity\": 46},\n",
        "           1018: {\"name\": \"Face Cream\", \"price\": 299, \"quantity\": 104},\n",
        "           1019: {\"name\": \"Sponge\", \"price\": 79, \"quantity\": 354},\n",
        "           1020: {\"name\": \"Makeup Kit\", \"price\": 810, \"quantity\": 22},\n",
        "           1021: {\"name\": \"Shoes\", \"price\": 2899, \"quantity\": 70},\n",
        "           1022: {\"name\": \"Shirt\", \"price\": 570, \"quantity\": 400},\n",
        "           1023: {\"name\": \"Bracelet\", \"price\": 119, \"quantity\": 900},\n",
        "           1024: {\"name\": \"Hair Brush\", \"price\": 260, \"quantity\": 500},\n",
        "           1025: {\"name\": \"Coffee Mug\", \"price\": 185, \"quantity\": 175},\n",
        "           1026: {\"name\": \"Air Conditioner\", \"price\": 42500, \"quantity\": 6},\n",
        "           1027: {\"name\": \"Washing Machine\", \"price\": 15899, \"quantity\": 3},\n",
        "           1028: {\"name\": \"Pillow\", \"price\": 975, \"quantity\": 87},\n",
        "           1029: {\"name\": \"Curtains\", \"price\": 1199, \"quantity\": 255},\n",
        "           1030: {\"name\": \"Bed Sheet\", \"price\": 320, \"quantity\": 300}}\n",
        "\n",
        "\n",
        "js = json.dumps(products)\n",
        "\n",
        "fd = open(\"products.json\", 'w')\n",
        "fd.write(js)\n",
        "fd.close()\n"
      ],
      "execution_count": 1,
      "outputs": []
    },
    {
      "cell_type": "markdown",
      "metadata": {
        "id": "rL7MfswrCnZA"
      },
      "source": [
        "\n",
        "Read Data from JSON"
      ]
    },
    {
      "cell_type": "code",
      "metadata": {
        "id": "2QCCYBsnCu6x"
      },
      "source": [
        "fd = open(\"products.json\",'r')\n",
        "r = fd.read()\n",
        "fd.close()\n",
        "\n",
        "products = json.loads(r)"
      ],
      "execution_count": 2,
      "outputs": []
    },
    {
      "cell_type": "code",
      "metadata": {
        "colab": {
          "base_uri": "https://localhost:8080/"
        },
        "id": "UBblDfPlCzXZ",
        "outputId": "0f66e952-370e-4c2b-e1c1-1dc24b28a2b9"
      },
      "source": [
        "products"
      ],
      "execution_count": 3,
      "outputs": [
        {
          "output_type": "execute_result",
          "data": {
            "text/plain": [
              "{'1001': {'name': 'Chips', 'price': 30, 'quantity': 500},\n",
              " '1002': {'name': 'Chocolate', 'price': 80, 'quantity': 310},\n",
              " '1003': {'name': 'Cake', 'price': 400, 'quantity': 100},\n",
              " '1004': {'name': 'Soap', 'price': 50, 'quantity': 920},\n",
              " '1005': {'name': 'Hair Oil', 'price': 120, 'quantity': 125},\n",
              " '1006': {'name': 'Candy', 'price': 20, 'quantity': 1020},\n",
              " '1007': {'name': 'Drink', 'price': 65, 'quantity': 885},\n",
              " '1008': {'name': 'Pen', 'price': 10, 'quantity': 1900},\n",
              " '1009': {'name': 'Monitor', 'price': 4500, 'quantity': 150},\n",
              " '1010': {'name': 'Phone', 'price': 35000, 'quantity': 60},\n",
              " '1011': {'name': 'Airpods', 'price': 12399, 'quantity': 98},\n",
              " '1012': {'name': 'Keyboard', 'price': 699, 'quantity': 20},\n",
              " '1013': {'name': 'Bag', 'price': 420, 'quantity': 710},\n",
              " '1014': {'name': 'Bottle', 'price': 105, 'quantity': 965},\n",
              " '1015': {'name': 'Charger', 'price': 95, 'quantity': 230},\n",
              " '1016': {'name': 'Table Calendar', 'price': 49, 'quantity': 545},\n",
              " '1017': {'name': 'Smart Watch', 'price': 3780, 'quantity': 46},\n",
              " '1018': {'name': 'Face Cream', 'price': 299, 'quantity': 104},\n",
              " '1019': {'name': 'Sponge', 'price': 79, 'quantity': 354},\n",
              " '1020': {'name': 'Makeup Kit', 'price': 810, 'quantity': 22},\n",
              " '1021': {'name': 'Shoes', 'price': 2899, 'quantity': 70},\n",
              " '1022': {'name': 'Shirt', 'price': 570, 'quantity': 400},\n",
              " '1023': {'name': 'Bracelet', 'price': 119, 'quantity': 900},\n",
              " '1024': {'name': 'Hair Brush', 'price': 260, 'quantity': 500},\n",
              " '1025': {'name': 'Coffee Mug', 'price': 185, 'quantity': 175},\n",
              " '1026': {'name': 'Air Conditioner', 'price': 42500, 'quantity': 6},\n",
              " '1027': {'name': 'Washing Machine', 'price': 15899, 'quantity': 3},\n",
              " '1028': {'name': 'Pillow', 'price': 975, 'quantity': 87},\n",
              " '1029': {'name': 'Curtains', 'price': 1199, 'quantity': 255},\n",
              " '1030': {'name': 'Bed Sheet', 'price': 320, 'quantity': 300}}"
            ]
          },
          "metadata": {},
          "execution_count": 3
        }
      ]
    },
    {
      "cell_type": "markdown",
      "metadata": {
        "id": "Osbjg6aODJ-Z"
      },
      "source": [
        "Adding New Items into Inventory"
      ]
    },
    {
      "cell_type": "code",
      "metadata": {
        "colab": {
          "base_uri": "https://localhost:8080/"
        },
        "id": "NjUzZI2XDP1a",
        "outputId": "c52b9860-bf70-4c58-ebda-bf18c4351d75"
      },
      "source": [
        "\n",
        "product_id = input(\"Enter product id:\")\n",
        "name = input(\"Enter name of product:\")\n",
        "price = int(input(\"Enter price of product:\"))\n",
        "quantity = int(input(\"Enter quantity of product:\"))\n",
        "\n",
        "products[product_id] = {'name': name, 'price': price, 'quantity': quantity}\n",
        "\n",
        "js = json.dumps(products)\n",
        "\n",
        "fd = open(\"products.json\",'w')\n",
        "fd.write(js)\n",
        "fd.close()"
      ],
      "execution_count": 5,
      "outputs": [
        {
          "name": "stdout",
          "output_type": "stream",
          "text": [
            "Enter product id:1031\n",
            "Enter name of product:Novel\n",
            "Enter price of product:529\n",
            "Enter quantity of product:100\n"
          ]
        }
      ]
    },
    {
      "cell_type": "code",
      "metadata": {
        "colab": {
          "base_uri": "https://localhost:8080/"
        },
        "id": "wVVPdcbDEMLw",
        "outputId": "9792094f-4b98-4cfb-a0ef-94459f1aa1c0"
      },
      "source": [
        "\n",
        "product_id = input(\"Enter product id:\")\n",
        "name = input(\"Enter name of product:\")\n",
        "price = int(input(\"Enter price of product:\"))\n",
        "quantity = int(input(\"Enter quantity of product:\"))\n",
        "\n",
        "products[product_id] = {'name': name, 'price': price, 'quantity': quantity}\n",
        "\n",
        "js = json.dumps(products)\n",
        "\n",
        "fd = open(\"products.json\",'w')\n",
        "fd.write(js)\n",
        "fd.close()"
      ],
      "execution_count": 6,
      "outputs": [
        {
          "name": "stdout",
          "output_type": "stream",
          "text": [
            "Enter product id:1032\n",
            "Enter name of product:Spoon\n",
            "Enter price of product:75\n",
            "Enter quantity of product:220\n"
          ]
        }
      ]
    },
    {
      "cell_type": "code",
      "metadata": {
        "colab": {
          "base_uri": "https://localhost:8080/"
        },
        "id": "AGvcc6dBEVuv",
        "outputId": "3dcfb011-5969-4b5a-dad2-d3360b1ff2bb"
      },
      "source": [
        "products"
      ],
      "execution_count": 7,
      "outputs": [
        {
          "output_type": "execute_result",
          "data": {
            "text/plain": [
              "{'1001': {'name': 'Chips', 'price': 30, 'quantity': 500},\n",
              " '1002': {'name': 'Chocolate', 'price': 80, 'quantity': 310},\n",
              " '1003': {'name': 'Cake', 'price': 400, 'quantity': 100},\n",
              " '1004': {'name': 'Soap', 'price': 50, 'quantity': 920},\n",
              " '1005': {'name': 'Hair Oil', 'price': 120, 'quantity': 125},\n",
              " '1006': {'name': 'Candy', 'price': 20, 'quantity': 1020},\n",
              " '1007': {'name': 'Drink', 'price': 65, 'quantity': 885},\n",
              " '1008': {'name': 'Pen', 'price': 10, 'quantity': 1900},\n",
              " '1009': {'name': 'Monitor', 'price': 4500, 'quantity': 150},\n",
              " '1010': {'name': 'Phone', 'price': 35000, 'quantity': 60},\n",
              " '1011': {'name': 'Airpods', 'price': 12399, 'quantity': 98},\n",
              " '1012': {'name': 'Keyboard', 'price': 699, 'quantity': 20},\n",
              " '1013': {'name': 'Bag', 'price': 420, 'quantity': 710},\n",
              " '1014': {'name': 'Bottle', 'price': 105, 'quantity': 965},\n",
              " '1015': {'name': 'Charger', 'price': 95, 'quantity': 230},\n",
              " '1016': {'name': 'Table Calendar', 'price': 49, 'quantity': 545},\n",
              " '1017': {'name': 'Smart Watch', 'price': 3780, 'quantity': 46},\n",
              " '1018': {'name': 'Face Cream', 'price': 299, 'quantity': 104},\n",
              " '1019': {'name': 'Sponge', 'price': 79, 'quantity': 354},\n",
              " '1020': {'name': 'Makeup Kit', 'price': 810, 'quantity': 22},\n",
              " '1021': {'name': 'Shoes', 'price': 2899, 'quantity': 70},\n",
              " '1022': {'name': 'Shirt', 'price': 570, 'quantity': 400},\n",
              " '1023': {'name': 'Bracelet', 'price': 119, 'quantity': 900},\n",
              " '1024': {'name': 'Hair Brush', 'price': 260, 'quantity': 500},\n",
              " '1025': {'name': 'Coffee Mug', 'price': 185, 'quantity': 175},\n",
              " '1026': {'name': 'Air Conditioner', 'price': 42500, 'quantity': 6},\n",
              " '1027': {'name': 'Washing Machine', 'price': 15899, 'quantity': 3},\n",
              " '1028': {'name': 'Pillow', 'price': 975, 'quantity': 87},\n",
              " '1029': {'name': 'Curtains', 'price': 1199, 'quantity': 255},\n",
              " '1030': {'name': 'Bed Sheet', 'price': 320, 'quantity': 300},\n",
              " '1031': {'name': 'Novel', 'price': 529, 'quantity': 100},\n",
              " '1032': {'name': 'Spoon', 'price': 75, 'quantity': 220}}"
            ]
          },
          "metadata": {},
          "execution_count": 7
        }
      ]
    },
    {
      "cell_type": "markdown",
      "metadata": {
        "id": "S3n2oKVjEYqw"
      },
      "source": [
        "Deleting Item from Inventory"
      ]
    },
    {
      "cell_type": "code",
      "metadata": {
        "id": "XOkHUl4lEZSY"
      },
      "source": [
        "del products['1016']"
      ],
      "execution_count": 8,
      "outputs": []
    },
    {
      "cell_type": "code",
      "metadata": {
        "colab": {
          "base_uri": "https://localhost:8080/"
        },
        "id": "MWi30i6aEcTg",
        "outputId": "b0a7e0f1-beb4-423a-ca4f-044cdfc28573"
      },
      "source": [
        "products"
      ],
      "execution_count": 9,
      "outputs": [
        {
          "output_type": "execute_result",
          "data": {
            "text/plain": [
              "{'1001': {'name': 'Chips', 'price': 30, 'quantity': 500},\n",
              " '1002': {'name': 'Chocolate', 'price': 80, 'quantity': 310},\n",
              " '1003': {'name': 'Cake', 'price': 400, 'quantity': 100},\n",
              " '1004': {'name': 'Soap', 'price': 50, 'quantity': 920},\n",
              " '1005': {'name': 'Hair Oil', 'price': 120, 'quantity': 125},\n",
              " '1006': {'name': 'Candy', 'price': 20, 'quantity': 1020},\n",
              " '1007': {'name': 'Drink', 'price': 65, 'quantity': 885},\n",
              " '1008': {'name': 'Pen', 'price': 10, 'quantity': 1900},\n",
              " '1009': {'name': 'Monitor', 'price': 4500, 'quantity': 150},\n",
              " '1010': {'name': 'Phone', 'price': 35000, 'quantity': 60},\n",
              " '1011': {'name': 'Airpods', 'price': 12399, 'quantity': 98},\n",
              " '1012': {'name': 'Keyboard', 'price': 699, 'quantity': 20},\n",
              " '1013': {'name': 'Bag', 'price': 420, 'quantity': 710},\n",
              " '1014': {'name': 'Bottle', 'price': 105, 'quantity': 965},\n",
              " '1015': {'name': 'Charger', 'price': 95, 'quantity': 230},\n",
              " '1017': {'name': 'Smart Watch', 'price': 3780, 'quantity': 46},\n",
              " '1018': {'name': 'Face Cream', 'price': 299, 'quantity': 104},\n",
              " '1019': {'name': 'Sponge', 'price': 79, 'quantity': 354},\n",
              " '1020': {'name': 'Makeup Kit', 'price': 810, 'quantity': 22},\n",
              " '1021': {'name': 'Shoes', 'price': 2899, 'quantity': 70},\n",
              " '1022': {'name': 'Shirt', 'price': 570, 'quantity': 400},\n",
              " '1023': {'name': 'Bracelet', 'price': 119, 'quantity': 900},\n",
              " '1024': {'name': 'Hair Brush', 'price': 260, 'quantity': 500},\n",
              " '1025': {'name': 'Coffee Mug', 'price': 185, 'quantity': 175},\n",
              " '1026': {'name': 'Air Conditioner', 'price': 42500, 'quantity': 6},\n",
              " '1027': {'name': 'Washing Machine', 'price': 15899, 'quantity': 3},\n",
              " '1028': {'name': 'Pillow', 'price': 975, 'quantity': 87},\n",
              " '1029': {'name': 'Curtains', 'price': 1199, 'quantity': 255},\n",
              " '1030': {'name': 'Bed Sheet', 'price': 320, 'quantity': 300},\n",
              " '1031': {'name': 'Novel', 'price': 529, 'quantity': 100},\n",
              " '1032': {'name': 'Spoon', 'price': 75, 'quantity': 220}}"
            ]
          },
          "metadata": {},
          "execution_count": 9
        }
      ]
    },
    {
      "cell_type": "markdown",
      "metadata": {
        "id": "c_Bftw6oH1AX"
      },
      "source": [
        "Purchasing Products"
      ]
    },
    {
      "cell_type": "code",
      "metadata": {
        "id": "8J9yhAPGIbXd"
      },
      "source": [
        "import json\n",
        "\n",
        "fd = open(\"products.json\",'r')\n",
        "r = fd.read()\n",
        "fd.close()\n",
        "\n",
        "product = json.loads(r)"
      ],
      "execution_count": 12,
      "outputs": []
    },
    {
      "cell_type": "code",
      "metadata": {
        "colab": {
          "base_uri": "https://localhost:8080/"
        },
        "id": "7prWSm0TIdLl",
        "outputId": "83fb0697-fb5d-4d90-f560-fe37ce7e89cf"
      },
      "source": [
        "product"
      ],
      "execution_count": 13,
      "outputs": [
        {
          "output_type": "execute_result",
          "data": {
            "text/plain": [
              "{'1001': {'name': 'Chips', 'price': 30, 'quantity': 500},\n",
              " '1002': {'name': 'Chocolate', 'price': 80, 'quantity': 310},\n",
              " '1003': {'name': 'Cake', 'price': 400, 'quantity': 100},\n",
              " '1004': {'name': 'Soap', 'price': 50, 'quantity': 920},\n",
              " '1005': {'name': 'Hair Oil', 'price': 120, 'quantity': 125},\n",
              " '1006': {'name': 'Candy', 'price': 20, 'quantity': 1020},\n",
              " '1007': {'name': 'Drink', 'price': 65, 'quantity': 885},\n",
              " '1008': {'name': 'Pen', 'price': 10, 'quantity': 1900},\n",
              " '1009': {'name': 'Monitor', 'price': 4500, 'quantity': 150},\n",
              " '1010': {'name': 'Phone', 'price': 35000, 'quantity': 60},\n",
              " '1011': {'name': 'Airpods', 'price': 12399, 'quantity': 98},\n",
              " '1012': {'name': 'Keyboard', 'price': 699, 'quantity': 20},\n",
              " '1013': {'name': 'Bag', 'price': 420, 'quantity': 710},\n",
              " '1014': {'name': 'Bottle', 'price': 105, 'quantity': 965},\n",
              " '1015': {'name': 'Charger', 'price': 95, 'quantity': 230},\n",
              " '1016': {'name': 'Table Calendar', 'price': 49, 'quantity': 545},\n",
              " '1017': {'name': 'Smart Watch', 'price': 3780, 'quantity': 46},\n",
              " '1018': {'name': 'Face Cream', 'price': 299, 'quantity': 104},\n",
              " '1019': {'name': 'Sponge', 'price': 79, 'quantity': 354},\n",
              " '1020': {'name': 'Makeup Kit', 'price': 810, 'quantity': 22},\n",
              " '1021': {'name': 'Shoes', 'price': 2899, 'quantity': 70},\n",
              " '1022': {'name': 'Shirt', 'price': 570, 'quantity': 400},\n",
              " '1023': {'name': 'Bracelet', 'price': 119, 'quantity': 900},\n",
              " '1024': {'name': 'Hair Brush', 'price': 260, 'quantity': 500},\n",
              " '1025': {'name': 'Coffee Mug', 'price': 185, 'quantity': 175},\n",
              " '1026': {'name': 'Air Conditioner', 'price': 42500, 'quantity': 6},\n",
              " '1027': {'name': 'Washing Machine', 'price': 15899, 'quantity': 3},\n",
              " '1028': {'name': 'Pillow', 'price': 975, 'quantity': 87},\n",
              " '1029': {'name': 'Curtains', 'price': 1199, 'quantity': 255},\n",
              " '1030': {'name': 'Bed Sheet', 'price': 320, 'quantity': 300},\n",
              " '1031': {'name': 'Novel', 'price': 529, 'quantity': 100},\n",
              " '1032': {'name': 'Spoon', 'price': 75, 'quantity': 220}}"
            ]
          },
          "metadata": {},
          "execution_count": 13
        }
      ]
    },
    {
      "cell_type": "markdown",
      "metadata": {
        "id": "WJtx2JE8IgHl"
      },
      "source": [
        "Purchasing Products"
      ]
    },
    {
      "cell_type": "code",
      "metadata": {
        "colab": {
          "base_uri": "https://localhost:8080/"
        },
        "id": "DBHZtFY9MEzL",
        "outputId": "82cb866d-c3f3-4694-8495-6942a7fc7ee1"
      },
      "source": [
        "ui_product  = input(\"Enter the product Id: \")\n",
        "ui_quantity = int(input(\"Enter the quantity: \"))\n",
        "\n",
        "\n",
        "print(\"Product Name: \", product[ui_product]['name'])\n",
        "print(\"Product Price: \", product[ui_product]['price'])\n",
        "print(\"Billing Amount: \", product[ui_product]['price'] * ui_quantity)\n",
        "\n",
        "product[ui_product]['quantity'] = product[ui_product]['quantity'] - ui_quantity"
      ],
      "execution_count": 15,
      "outputs": [
        {
          "output_type": "stream",
          "name": "stdout",
          "text": [
            "Enter the product Id: 1028\n",
            "Enter the quantity: 8\n",
            "Product Name:  Pillow\n",
            "Product Price:  975\n",
            "Billing Amount:  7800\n"
          ]
        }
      ]
    },
    {
      "cell_type": "code",
      "metadata": {
        "colab": {
          "base_uri": "https://localhost:8080/"
        },
        "id": "igLvIxThMObL",
        "outputId": "58228da0-fd07-4068-cdcf-fedd084ada35"
      },
      "source": [
        "ui_product2  = input(\"Enter the product Id: \")\n",
        "ui_quantity2 = int(input(\"Enter the quantity: \"))\n",
        "\n",
        "\n",
        "print(\"Product Name: \", product[ui_product2]['name'])\n",
        "print(\"Product Price: \", product[ui_product2]['price'])\n",
        "print(\"Billing Amount: \", product[ui_product2]['price'] * ui_quantity2)\n",
        "\n",
        "product[ui_product2]['quantity'] = product[ui_product2]['quantity'] - ui_quantity2"
      ],
      "execution_count": 16,
      "outputs": [
        {
          "output_type": "stream",
          "name": "stdout",
          "text": [
            "Enter the product Id: 1002\n",
            "Enter the quantity: 200\n",
            "Product Name:  Chocolate\n",
            "Product Price:  80\n",
            "Billing Amount:  16000\n"
          ]
        }
      ]
    },
    {
      "cell_type": "code",
      "metadata": {
        "colab": {
          "base_uri": "https://localhost:8080/"
        },
        "id": "9B9gVq_zM9eK",
        "outputId": "b462570e-c34f-4824-f66c-a3710d7269d0"
      },
      "source": [
        "ui_product3  = input(\"Enter the product Id: \")\n",
        "ui_quantity3 = int(input(\"Enter the quantity: \"))\n",
        "\n",
        "\n",
        "print(\"Product Name: \", product[ui_product3]['name'])\n",
        "print(\"Product Price: \", product[ui_product3]['price'])\n",
        "print(\"Billing Amount: \", product[ui_product3]['price'] * ui_quantity3)\n",
        "\n",
        "product[ui_product3]['quantity'] = product[ui_product3]['quantity'] - ui_quantity3"
      ],
      "execution_count": 21,
      "outputs": [
        {
          "output_type": "stream",
          "name": "stdout",
          "text": [
            "Enter the product Id: 1002\n",
            "Enter the quantity: 200\n",
            "Product Name:  Chocolate\n",
            "Product Price:  80\n",
            "Billing Amount:  16000\n"
          ]
        }
      ]
    },
    {
      "cell_type": "code",
      "metadata": {
        "colab": {
          "base_uri": "https://localhost:8080/"
        },
        "id": "5lGTxDrRMVVC",
        "outputId": "00df6bd2-235a-4f29-8d42-17d6d6e80357"
      },
      "source": [
        "ui_product4  = input(\"Enter the product Id: \")\n",
        "ui_quantity4 = int(input(\"Enter the quantity: \"))\n",
        "\n",
        "\n",
        "print(\"Product Name: \", product[ui_product4]['name'])\n",
        "print(\"Product Price: \", product[ui_product4]['price'])\n",
        "print(\"Billing Amount: \", product[ui_product4]['price'] * ui_quantity4)\n",
        "\n",
        "product[ui_product4]['quantity'] = product[ui_product4]['quantity'] - ui_quantity4"
      ],
      "execution_count": 17,
      "outputs": [
        {
          "output_type": "stream",
          "name": "stdout",
          "text": [
            "Enter the product Id: 1031\n",
            "Enter the quantity: 22\n",
            "Product Name:  Novel\n",
            "Product Price:  529\n",
            "Billing Amount:  11638\n"
          ]
        }
      ]
    },
    {
      "cell_type": "code",
      "metadata": {
        "colab": {
          "base_uri": "https://localhost:8080/"
        },
        "id": "VU4Sl8ajMlja",
        "outputId": "a9b58668-1258-420d-d511-80f401efaa4e"
      },
      "source": [
        "\n",
        "ui_product5  = input(\"Enter the product Id: \")\n",
        "ui_quantity5 = int(input(\"Enter the quantity: \"))\n",
        "\n",
        "\n",
        "print(\"Product Name: \", product[ui_product5]['name'])\n",
        "print(\"Product Price: \", product[ui_product5]['price'])\n",
        "print(\"Billing Amount: \", product[ui_product5]['price'] * ui_quantity5)\n",
        "\n",
        "product[ui_product5]['quantity'] = product[ui_product5]['quantity'] - ui_quantity5"
      ],
      "execution_count": 18,
      "outputs": [
        {
          "output_type": "stream",
          "name": "stdout",
          "text": [
            "Enter the product Id: 1026\n",
            "Enter the quantity: 2\n",
            "Product Name:  Air Conditioner\n",
            "Product Price:  42500\n",
            "Billing Amount:  85000\n"
          ]
        }
      ]
    },
    {
      "cell_type": "code",
      "metadata": {
        "colab": {
          "base_uri": "https://localhost:8080/"
        },
        "id": "HSV4mXu7ND7K",
        "outputId": "9e1ac2e3-6411-4719-c422-7600141f5aca"
      },
      "source": [
        "ui_product6  = input(\"Enter the product Id: \")\n",
        "ui_quantity6 = int(input(\"Enter the quantity: \"))\n",
        "\n",
        "\n",
        "print(\"Product Name: \", product[ui_product6]['name'])\n",
        "print(\"Product Price: \", product[ui_product6]['price'])\n",
        "print(\"Billing Amount: \", product[ui_product6]['price'] * ui_quantity6)\n",
        "\n",
        "product[ui_product6]['quantity'] = product[ui_product6]['quantity'] - ui_quantity6"
      ],
      "execution_count": 22,
      "outputs": [
        {
          "output_type": "stream",
          "name": "stdout",
          "text": [
            "Enter the product Id: 1017\n",
            "Enter the quantity: 12\n",
            "Product Name:  Smart Watch\n",
            "Product Price:  3780\n",
            "Billing Amount:  45360\n"
          ]
        }
      ]
    },
    {
      "cell_type": "code",
      "metadata": {
        "colab": {
          "base_uri": "https://localhost:8080/"
        },
        "id": "ZCJ45HtoNJKq",
        "outputId": "0497d4d0-31e4-4ce8-e75c-3f8b83912434"
      },
      "source": [
        "ui_product7  = input(\"Enter the product Id: \")\n",
        "ui_quantity7 = int(input(\"Enter the quantity: \"))\n",
        "\n",
        "\n",
        "print(\"Product Name: \", product[ui_product7]['name'])\n",
        "print(\"Product Price: \", product[ui_product7]['price'])\n",
        "print(\"Billing Amount: \", product[ui_product7]['price'] * ui_quantity7)\n",
        "\n",
        "product[ui_product7]['quantity'] = product[ui_product7]['quantity'] - ui_quantity7"
      ],
      "execution_count": 23,
      "outputs": [
        {
          "output_type": "stream",
          "name": "stdout",
          "text": [
            "Enter the product Id: 1006\n",
            "Enter the quantity: 454\n",
            "Product Name:  Candy\n",
            "Product Price:  20\n",
            "Billing Amount:  9080\n"
          ]
        }
      ]
    },
    {
      "cell_type": "code",
      "metadata": {
        "colab": {
          "base_uri": "https://localhost:8080/"
        },
        "id": "82oUoKtwNN8r",
        "outputId": "6b98677c-9c6a-467e-e0e1-eaa2997b08fe"
      },
      "source": [
        "ui_product8  = input(\"Enter the product Id: \")\n",
        "ui_quantity8 = int(input(\"Enter the quantity: \"))\n",
        "\n",
        "\n",
        "print(\"Product Name: \", product[ui_product8]['name'])\n",
        "print(\"Product Price: \", product[ui_product8]['price'])\n",
        "print(\"Billing Amount: \", product[ui_product8]['price'] * ui_quantity8)\n",
        "\n",
        "product[ui_product8]['quantity'] = product[ui_product8]['quantity'] - ui_quantity8\n"
      ],
      "execution_count": 24,
      "outputs": [
        {
          "output_type": "stream",
          "name": "stdout",
          "text": [
            "Enter the product Id: 1003\n",
            "Enter the quantity: 23\n",
            "Product Name:  Cake\n",
            "Product Price:  400\n",
            "Billing Amount:  9200\n"
          ]
        }
      ]
    },
    {
      "cell_type": "code",
      "metadata": {
        "colab": {
          "base_uri": "https://localhost:8080/"
        },
        "id": "vg38t9MjNRcB",
        "outputId": "b28468e7-5dfd-4fca-c840-4f8dd6d29746"
      },
      "source": [
        "ui_product9  = input(\"Enter the product Id: \")\n",
        "ui_quantity9 = int(input(\"Enter the quantity: \"))\n",
        "\n",
        "\n",
        "print(\"Product Name: \", product[ui_product9]['name'])\n",
        "print(\"Product Price: \", product[ui_product9]['price'])\n",
        "print(\"Billing Amount: \", product[ui_product9]['price'] * ui_quantity9)\n",
        "\n",
        "product[ui_product9]['quantity'] = product[ui_product9]['quantity'] - ui_quantity9"
      ],
      "execution_count": 25,
      "outputs": [
        {
          "output_type": "stream",
          "name": "stdout",
          "text": [
            "Enter the product Id: 1023\n",
            "Enter the quantity: 36\n",
            "Product Name:  Bracelet\n",
            "Product Price:  119\n",
            "Billing Amount:  4284\n"
          ]
        }
      ]
    },
    {
      "cell_type": "code",
      "metadata": {
        "colab": {
          "base_uri": "https://localhost:8080/"
        },
        "id": "p7SDBqLXNU6K",
        "outputId": "cce48253-282a-4257-d7af-5de67bc8508e"
      },
      "source": [
        "\n",
        "ui_product10  = input(\"Enter the product Id: \")\n",
        "ui_quantity10 = int(input(\"Enter the quantity: \"))\n",
        "\n",
        "\n",
        "print(\"Product Name: \", product[ui_product10]['name'])\n",
        "print(\"Product Price: \", product[ui_product10]['price'])\n",
        "print(\"Billing Amount: \", product[ui_product10]['price'] * ui_quantity10)\n",
        "\n",
        "product[ui_product10]['quantity'] = product[ui_product10]['quantity'] - ui_quantity10"
      ],
      "execution_count": 26,
      "outputs": [
        {
          "output_type": "stream",
          "name": "stdout",
          "text": [
            "Enter the product Id: 1015\n",
            "Enter the quantity: 113\n",
            "Product Name:  Charger\n",
            "Product Price:  95\n",
            "Billing Amount:  10735\n"
          ]
        }
      ]
    },
    {
      "cell_type": "markdown",
      "metadata": {
        "id": "VbKPcHtsMsmJ"
      },
      "source": [
        "Updating Inventory after Purchase"
      ]
    },
    {
      "cell_type": "code",
      "metadata": {
        "id": "SkWIuRV8MtXL"
      },
      "source": [
        "js = json.dumps(product)\n",
        "\n",
        "fd = open(\"products.json\",'w')\n",
        "fd.write(js)\n",
        "fd.close()"
      ],
      "execution_count": 27,
      "outputs": []
    },
    {
      "cell_type": "markdown",
      "metadata": {
        "id": "UsvJXFDPMvsa"
      },
      "source": [
        "Sales JSON"
      ]
    },
    {
      "cell_type": "code",
      "metadata": {
        "id": "2CN_rZIoNb00"
      },
      "source": [
        "sales = {1:{'product' : ui_product, 'quantity' : ui_quantity, 'amount': product[ui_product]['price'] * ui_quantity},\n",
        "         2:{'product' : ui_product2, 'quantity' : ui_quantity2, 'amount': product[ui_product2]['price'] * ui_quantity2},\n",
        "         3:{'product' : ui_product3, 'quantity' : ui_quantity3, 'amount': product[ui_product3]['price'] * ui_quantity3},\n",
        "         4:{'product' : ui_product4, 'quantity' : ui_quantity4, 'amount': product[ui_product4]['price'] * ui_quantity4},\n",
        "         5:{'product' : ui_product5, 'quantity' : ui_quantity5, 'amount': product[ui_product5]['price'] * ui_quantity5},\n",
        "         6:{'product' : ui_product6, 'quantity' : ui_quantity6, 'amount': product[ui_product6]['price'] * ui_quantity6},\n",
        "         7:{'product' : ui_product7, 'quantity' : ui_quantity7, 'amount': product[ui_product7]['price'] * ui_quantity7},\n",
        "         8:{'product' : ui_product8, 'quantity' : ui_quantity8, 'amount': product[ui_product8]['price'] * ui_quantity8},\n",
        "         9:{'product' : ui_product9, 'quantity' : ui_quantity9, 'amount': product[ui_product9]['price'] * ui_quantity9},\n",
        "        10:{'product' : ui_product10, 'quantity' : ui_quantity10, 'amount': product[ui_product10]['price'] * ui_quantity10}}"
      ],
      "execution_count": 28,
      "outputs": []
    },
    {
      "cell_type": "code",
      "metadata": {
        "id": "rxHRm-bcNeRz"
      },
      "source": [
        "\n",
        "sale = json.dumps(sales)\n",
        "\n",
        "fd = open(\"sale.json\",'w')\n",
        "fd.write(js)\n",
        "fd.close()"
      ],
      "execution_count": 29,
      "outputs": []
    },
    {
      "cell_type": "code",
      "metadata": {
        "colab": {
          "base_uri": "https://localhost:8080/"
        },
        "id": "PZ2yd6HzNgla",
        "outputId": "639c07fd-a4b1-411a-cf8f-91210eacd509"
      },
      "source": [
        "\n",
        "print(sale)"
      ],
      "execution_count": 30,
      "outputs": [
        {
          "output_type": "stream",
          "name": "stdout",
          "text": [
            "{\"1\": {\"product\": \"1028\", \"quantity\": 8, \"amount\": 7800}, \"2\": {\"product\": \"1002\", \"quantity\": 200, \"amount\": 16000}, \"3\": {\"product\": \"1002\", \"quantity\": 200, \"amount\": 16000}, \"4\": {\"product\": \"1031\", \"quantity\": 22, \"amount\": 11638}, \"5\": {\"product\": \"1026\", \"quantity\": 2, \"amount\": 85000}, \"6\": {\"product\": \"1017\", \"quantity\": 12, \"amount\": 45360}, \"7\": {\"product\": \"1006\", \"quantity\": 454, \"amount\": 9080}, \"8\": {\"product\": \"1003\", \"quantity\": 23, \"amount\": 9200}, \"9\": {\"product\": \"1023\", \"quantity\": 36, \"amount\": 4284}, \"10\": {\"product\": \"1015\", \"quantity\": 113, \"amount\": 10735}}\n"
          ]
        }
      ]
    },
    {
      "cell_type": "code",
      "metadata": {
        "id": "bh42vLA_Nl6q"
      },
      "source": [
        ""
      ],
      "execution_count": null,
      "outputs": []
    }
  ]
}