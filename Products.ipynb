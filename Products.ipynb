{
  "nbformat": 4,
  "nbformat_minor": 0,
  "metadata": {
    "colab": {
      "name": "Products.ipynb",
      "provenance": []
    },
    "kernelspec": {
      "name": "python3",
      "display_name": "Python 3"
    },
    "language_info": {
      "name": "python"
    }
  },
  "cells": [
    {
      "cell_type": "code",
      "metadata": {
        "id": "KHiX55lCByi0"
      },
      "source": [
        "import json\n",
        "products= {1001: {\"name\": \"Chips\", \"price\": 30, \"quantity\": 500},\n",
        "           1002: {\"name\": \"Chocolate\", \"price\": 80, \"quantity\": 310},\n",
        "           1003: {\"name\": \"Cake\", \"price\": 400, \"quantity\": 100},\n",
        "           1004: {\"name\": \"Soap\", \"price\": 50, \"quantity\": 920},\n",
        "           1005: {\"name\": \"Hair Oil\", \"price\": 120, \"quantity\": 125},\n",
        "           1006: {\"name\": \"Candy\", \"price\": 20, \"quantity\": 1020},\n",
        "           1007: {\"name\": \"Drink\", \"price\": 65, \"quantity\": 885},\n",
        "           1008: {\"name\": \"Pen\", \"price\": 10, \"quantity\": 1900},\n",
        "           1009: {\"name\": \"Monitor\", \"price\": 4500, \"quantity\": 150},\n",
        "           1010: {\"name\": \"Phone\", \"price\": 35000, \"quantity\": 60},\n",
        "           1011: {\"name\": \"Airpods\", \"price\": 12399, \"quantity\": 98},\n",
        "           1012: {\"name\": \"Keyboard\", \"price\": 699, \"quantity\": 20},\n",
        "           1013: {\"name\": \"Bag\", \"price\": 420, \"quantity\": 710},\n",
        "           1014: {\"name\": \"Bottle\", \"price\": 105, \"quantity\": 965},\n",
        "           1015: {\"name\": \"Charger\", \"price\": 95, \"quantity\": 230},\n",
        "           1016: {\"name\": \"Table Calendar\", \"price\": 49, \"quantity\": 545},\n",
        "           1017: {\"name\": \"Smart Watch\", \"price\": 3780, \"quantity\": 46},\n",
        "           1018: {\"name\": \"Face Cream\", \"price\": 299, \"quantity\": 104},\n",
        "           1019: {\"name\": \"Sponge\", \"price\": 79, \"quantity\": 354},\n",
        "           1020: {\"name\": \"Makeup Kit\", \"price\": 810, \"quantity\": 22},\n",
        "           1021: {\"name\": \"Shoes\", \"price\": 2899, \"quantity\": 70},\n",
        "           1022: {\"name\": \"Shirt\", \"price\": 570, \"quantity\": 400},\n",
        "           1023: {\"name\": \"Bracelet\", \"price\": 119, \"quantity\": 900},\n",
        "           1024: {\"name\": \"Hair Brush\", \"price\": 260, \"quantity\": 500},\n",
        "           1025: {\"name\": \"Coffee Mug\", \"price\": 185, \"quantity\": 175},\n",
        "           1026: {\"name\": \"Air Conditioner\", \"price\": 42500, \"quantity\": 6},\n",
        "           1027: {\"name\": \"Washing Machine\", \"price\": 15899, \"quantity\": 3},\n",
        "           1028: {\"name\": \"Pillow\", \"price\": 975, \"quantity\": 87},\n",
        "           1029: {\"name\": \"Curtains\", \"price\": 1199, \"quantity\": 255},\n",
        "           1030: {\"name\": \"Bed Sheet\", \"price\": 320, \"quantity\": 300}}\n",
        "\n",
        "\n",
        "js = json.dumps(products)\n",
        "\n",
        "fd = open(\"products.json\", 'w')\n",
        "fd.write(js)\n",
        "fd.close()\n"
      ],
      "execution_count": 1,
      "outputs": []
    },
    {
      "cell_type": "markdown",
      "metadata": {
        "id": "rL7MfswrCnZA"
      },
      "source": [
        "\n",
        "Read Data from JSON"
      ]
    },
    {
      "cell_type": "code",
      "metadata": {
        "id": "2QCCYBsnCu6x"
      },
      "source": [
        "fd = open(\"products.json\",'r')\n",
        "r = fd.read()\n",
        "fd.close()\n",
        "\n",
        "products = json.loads(r)"
      ],
      "execution_count": 2,
      "outputs": []
    },
    {
      "cell_type": "code",
      "metadata": {
        "colab": {
          "base_uri": "https://localhost:8080/"
        },
        "id": "UBblDfPlCzXZ",
        "outputId": "0f66e952-370e-4c2b-e1c1-1dc24b28a2b9"
      },
      "source": [
        "products"
      ],
      "execution_count": 3,
      "outputs": [
        {
          "output_type": "execute_result",
          "data": {
            "text/plain": [
              "{'1001': {'name': 'Chips', 'price': 30, 'quantity': 500},\n",
              " '1002': {'name': 'Chocolate', 'price': 80, 'quantity': 310},\n",
              " '1003': {'name': 'Cake', 'price': 400, 'quantity': 100},\n",
              " '1004': {'name': 'Soap', 'price': 50, 'quantity': 920},\n",
              " '1005': {'name': 'Hair Oil', 'price': 120, 'quantity': 125},\n",
              " '1006': {'name': 'Candy', 'price': 20, 'quantity': 1020},\n",
              " '1007': {'name': 'Drink', 'price': 65, 'quantity': 885},\n",
              " '1008': {'name': 'Pen', 'price': 10, 'quantity': 1900},\n",
              " '1009': {'name': 'Monitor', 'price': 4500, 'quantity': 150},\n",
              " '1010': {'name': 'Phone', 'price': 35000, 'quantity': 60},\n",
              " '1011': {'name': 'Airpods', 'price': 12399, 'quantity': 98},\n",
              " '1012': {'name': 'Keyboard', 'price': 699, 'quantity': 20},\n",
              " '1013': {'name': 'Bag', 'price': 420, 'quantity': 710},\n",
              " '1014': {'name': 'Bottle', 'price': 105, 'quantity': 965},\n",
              " '1015': {'name': 'Charger', 'price': 95, 'quantity': 230},\n",
              " '1016': {'name': 'Table Calendar', 'price': 49, 'quantity': 545},\n",
              " '1017': {'name': 'Smart Watch', 'price': 3780, 'quantity': 46},\n",
              " '1018': {'name': 'Face Cream', 'price': 299, 'quantity': 104},\n",
              " '1019': {'name': 'Sponge', 'price': 79, 'quantity': 354},\n",
              " '1020': {'name': 'Makeup Kit', 'price': 810, 'quantity': 22},\n",
              " '1021': {'name': 'Shoes', 'price': 2899, 'quantity': 70},\n",
              " '1022': {'name': 'Shirt', 'price': 570, 'quantity': 400},\n",
              " '1023': {'name': 'Bracelet', 'price': 119, 'quantity': 900},\n",
              " '1024': {'name': 'Hair Brush', 'price': 260, 'quantity': 500},\n",
              " '1025': {'name': 'Coffee Mug', 'price': 185, 'quantity': 175},\n",
              " '1026': {'name': 'Air Conditioner', 'price': 42500, 'quantity': 6},\n",
              " '1027': {'name': 'Washing Machine', 'price': 15899, 'quantity': 3},\n",
              " '1028': {'name': 'Pillow', 'price': 975, 'quantity': 87},\n",
              " '1029': {'name': 'Curtains', 'price': 1199, 'quantity': 255},\n",
              " '1030': {'name': 'Bed Sheet', 'price': 320, 'quantity': 300}}"
            ]
          },
          "metadata": {},
          "execution_count": 3
        }
      ]
    },
    {
      "cell_type": "markdown",
      "metadata": {
        "id": "Osbjg6aODJ-Z"
      },
      "source": [
        "Adding New Items into Inventory"
      ]
    },
    {
      "cell_type": "code",
      "metadata": {
        "colab": {
          "base_uri": "https://localhost:8080/"
        },
        "id": "NjUzZI2XDP1a",
        "outputId": "c52b9860-bf70-4c58-ebda-bf18c4351d75"
      },
      "source": [
        "\n",
        "product_id = input(\"Enter product id:\")\n",
        "name = input(\"Enter name of product:\")\n",
        "price = int(input(\"Enter price of product:\"))\n",
        "quantity = int(input(\"Enter quantity of product:\"))\n",
        "\n",
        "products[product_id] = {'name': name, 'price': price, 'quantity': quantity}\n",
        "\n",
        "js = json.dumps(products)\n",
        "\n",
        "fd = open(\"products.json\",'w')\n",
        "fd.write(js)\n",
        "fd.close()"
      ],
      "execution_count": 5,
      "outputs": [
        {
          "name": "stdout",
          "output_type": "stream",
          "text": [
            "Enter product id:1031\n",
            "Enter name of product:Novel\n",
            "Enter price of product:529\n",
            "Enter quantity of product:100\n"
          ]
        }
      ]
    },
    {
      "cell_type": "code",
      "metadata": {
        "colab": {
          "base_uri": "https://localhost:8080/"
        },
        "id": "wVVPdcbDEMLw",
        "outputId": "9792094f-4b98-4cfb-a0ef-94459f1aa1c0"
      },
      "source": [
        "\n",
        "product_id = input(\"Enter product id:\")\n",
        "name = input(\"Enter name of product:\")\n",
        "price = int(input(\"Enter price of product:\"))\n",
        "quantity = int(input(\"Enter quantity of product:\"))\n",
        "\n",
        "products[product_id] = {'name': name, 'price': price, 'quantity': quantity}\n",
        "\n",
        "js = json.dumps(products)\n",
        "\n",
        "fd = open(\"products.json\",'w')\n",
        "fd.write(js)\n",
        "fd.close()"
      ],
      "execution_count": 6,
      "outputs": [
        {
          "name": "stdout",
          "output_type": "stream",
          "text": [
            "Enter product id:1032\n",
            "Enter name of product:Spoon\n",
            "Enter price of product:75\n",
            "Enter quantity of product:220\n"
          ]
        }
      ]
    },
    {
      "cell_type": "code",
      "metadata": {
        "colab": {
          "base_uri": "https://localhost:8080/"
        },
        "id": "AGvcc6dBEVuv",
        "outputId": "3dcfb011-5969-4b5a-dad2-d3360b1ff2bb"
      },
      "source": [
        "products"
      ],
      "execution_count": 7,
      "outputs": [
        {
          "output_type": "execute_result",
          "data": {
            "text/plain": [
              "{'1001': {'name': 'Chips', 'price': 30, 'quantity': 500},\n",
              " '1002': {'name': 'Chocolate', 'price': 80, 'quantity': 310},\n",
              " '1003': {'name': 'Cake', 'price': 400, 'quantity': 100},\n",
              " '1004': {'name': 'Soap', 'price': 50, 'quantity': 920},\n",
              " '1005': {'name': 'Hair Oil', 'price': 120, 'quantity': 125},\n",
              " '1006': {'name': 'Candy', 'price': 20, 'quantity': 1020},\n",
              " '1007': {'name': 'Drink', 'price': 65, 'quantity': 885},\n",
              " '1008': {'name': 'Pen', 'price': 10, 'quantity': 1900},\n",
              " '1009': {'name': 'Monitor', 'price': 4500, 'quantity': 150},\n",
              " '1010': {'name': 'Phone', 'price': 35000, 'quantity': 60},\n",
              " '1011': {'name': 'Airpods', 'price': 12399, 'quantity': 98},\n",
              " '1012': {'name': 'Keyboard', 'price': 699, 'quantity': 20},\n",
              " '1013': {'name': 'Bag', 'price': 420, 'quantity': 710},\n",
              " '1014': {'name': 'Bottle', 'price': 105, 'quantity': 965},\n",
              " '1015': {'name': 'Charger', 'price': 95, 'quantity': 230},\n",
              " '1016': {'name': 'Table Calendar', 'price': 49, 'quantity': 545},\n",
              " '1017': {'name': 'Smart Watch', 'price': 3780, 'quantity': 46},\n",
              " '1018': {'name': 'Face Cream', 'price': 299, 'quantity': 104},\n",
              " '1019': {'name': 'Sponge', 'price': 79, 'quantity': 354},\n",
              " '1020': {'name': 'Makeup Kit', 'price': 810, 'quantity': 22},\n",
              " '1021': {'name': 'Shoes', 'price': 2899, 'quantity': 70},\n",
              " '1022': {'name': 'Shirt', 'price': 570, 'quantity': 400},\n",
              " '1023': {'name': 'Bracelet', 'price': 119, 'quantity': 900},\n",
              " '1024': {'name': 'Hair Brush', 'price': 260, 'quantity': 500},\n",
              " '1025': {'name': 'Coffee Mug', 'price': 185, 'quantity': 175},\n",
              " '1026': {'name': 'Air Conditioner', 'price': 42500, 'quantity': 6},\n",
              " '1027': {'name': 'Washing Machine', 'price': 15899, 'quantity': 3},\n",
              " '1028': {'name': 'Pillow', 'price': 975, 'quantity': 87},\n",
              " '1029': {'name': 'Curtains', 'price': 1199, 'quantity': 255},\n",
              " '1030': {'name': 'Bed Sheet', 'price': 320, 'quantity': 300},\n",
              " '1031': {'name': 'Novel', 'price': 529, 'quantity': 100},\n",
              " '1032': {'name': 'Spoon', 'price': 75, 'quantity': 220}}"
            ]
          },
          "metadata": {},
          "execution_count": 7
        }
      ]
    },
    {
      "cell_type": "markdown",
      "metadata": {
        "id": "S3n2oKVjEYqw"
      },
      "source": [
        "Deleting Item from Inventory"
      ]
    },
    {
      "cell_type": "code",
      "metadata": {
        "id": "XOkHUl4lEZSY"
      },
      "source": [
        "del products['1016']"
      ],
      "execution_count": 8,
      "outputs": []
    },
    {
      "cell_type": "code",
      "metadata": {
        "colab": {
          "base_uri": "https://localhost:8080/"
        },
        "id": "MWi30i6aEcTg",
        "outputId": "b0a7e0f1-beb4-423a-ca4f-044cdfc28573"
      },
      "source": [
        "products"
      ],
      "execution_count": 9,
      "outputs": [
        {
          "output_type": "execute_result",
          "data": {
            "text/plain": [
              "{'1001': {'name': 'Chips', 'price': 30, 'quantity': 500},\n",
              " '1002': {'name': 'Chocolate', 'price': 80, 'quantity': 310},\n",
              " '1003': {'name': 'Cake', 'price': 400, 'quantity': 100},\n",
              " '1004': {'name': 'Soap', 'price': 50, 'quantity': 920},\n",
              " '1005': {'name': 'Hair Oil', 'price': 120, 'quantity': 125},\n",
              " '1006': {'name': 'Candy', 'price': 20, 'quantity': 1020},\n",
              " '1007': {'name': 'Drink', 'price': 65, 'quantity': 885},\n",
              " '1008': {'name': 'Pen', 'price': 10, 'quantity': 1900},\n",
              " '1009': {'name': 'Monitor', 'price': 4500, 'quantity': 150},\n",
              " '1010': {'name': 'Phone', 'price': 35000, 'quantity': 60},\n",
              " '1011': {'name': 'Airpods', 'price': 12399, 'quantity': 98},\n",
              " '1012': {'name': 'Keyboard', 'price': 699, 'quantity': 20},\n",
              " '1013': {'name': 'Bag', 'price': 420, 'quantity': 710},\n",
              " '1014': {'name': 'Bottle', 'price': 105, 'quantity': 965},\n",
              " '1015': {'name': 'Charger', 'price': 95, 'quantity': 230},\n",
              " '1017': {'name': 'Smart Watch', 'price': 3780, 'quantity': 46},\n",
              " '1018': {'name': 'Face Cream', 'price': 299, 'quantity': 104},\n",
              " '1019': {'name': 'Sponge', 'price': 79, 'quantity': 354},\n",
              " '1020': {'name': 'Makeup Kit', 'price': 810, 'quantity': 22},\n",
              " '1021': {'name': 'Shoes', 'price': 2899, 'quantity': 70},\n",
              " '1022': {'name': 'Shirt', 'price': 570, 'quantity': 400},\n",
              " '1023': {'name': 'Bracelet', 'price': 119, 'quantity': 900},\n",
              " '1024': {'name': 'Hair Brush', 'price': 260, 'quantity': 500},\n",
              " '1025': {'name': 'Coffee Mug', 'price': 185, 'quantity': 175},\n",
              " '1026': {'name': 'Air Conditioner', 'price': 42500, 'quantity': 6},\n",
              " '1027': {'name': 'Washing Machine', 'price': 15899, 'quantity': 3},\n",
              " '1028': {'name': 'Pillow', 'price': 975, 'quantity': 87},\n",
              " '1029': {'name': 'Curtains', 'price': 1199, 'quantity': 255},\n",
              " '1030': {'name': 'Bed Sheet', 'price': 320, 'quantity': 300},\n",
              " '1031': {'name': 'Novel', 'price': 529, 'quantity': 100},\n",
              " '1032': {'name': 'Spoon', 'price': 75, 'quantity': 220}}"
            ]
          },
          "metadata": {},
          "execution_count": 9
        }
      ]
    }
  ]
}